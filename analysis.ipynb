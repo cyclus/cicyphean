{
 "metadata": {
  "name": "",
  "signature": "sha256:9cac94772eb717a413bcd0eac485ef316fdb3b0f38d946344ae24849887ef3fd"
 },
 "nbformat": 3,
 "nbformat_minor": 0,
 "worksheets": [
  {
   "cells": [
    {
     "cell_type": "code",
     "collapsed": false,
     "input": [
      "import time\n",
      "import pandas\n",
      "import batlabcache\n",
      "\n",
      "# some setup\n",
      "pandas.options.display.max_rows = 15\n",
      "pandas.set_option('display.mpl_style', 'default')\n",
      "now_year, now_month = time.gmtime()[:2]\n",
      "\n",
      "# cyclusci first started using batlab in July 2013\n",
      "start_year, start_month = 2013, 7\n",
      "cache = batlabcache.BatlabCache(start_year, start_month, username='cyclusci')\n",
      "#cache.download_this_month()"
     ],
     "language": "python",
     "metadata": {},
     "outputs": [
      {
       "output_type": "stream",
       "stream": "stdout",
       "text": [
        "downloading http://submit-1.batlab.org/nmi/results/overview?storedSearch=0&sortDirection=down&sortBy=start&date=between+2014-7-01+and+2014-8-01&user=cyclusci\n",
        "...saved as /home/scopatz/cicyphean/cache/cyclusci_2014-07.html in 2e+00 s"
       ]
      },
      {
       "output_type": "stream",
       "stream": "stdout",
       "text": [
        "\n",
        "downloading http://submit-1.batlab.org/nmi/results/overview?storedSearch=0&sortDirection=down&sortBy=start&date=between+2014-8-01+and+2014-9-01&user=cyclusci\n",
        "...saved as /home/scopatz/cicyphean/cache/cyclusci_2014-08.html in 2e+00 s"
       ]
      },
      {
       "output_type": "stream",
       "stream": "stdout",
       "text": [
        "\n"
       ]
      }
     ],
     "prompt_number": 1
    },
    {
     "cell_type": "code",
     "collapsed": false,
     "input": [
      "df = cache.overview(start_year, start_month, now_year, now_month)\n",
      "df"
     ],
     "language": "python",
     "metadata": {},
     "outputs": [
      {
       "html": [
        "<div style=\"max-height:1000px;max-width:1500px;overflow:auto;\">\n",
        "<table border=\"1\" class=\"dataframe\">\n",
        "  <thead>\n",
        "    <tr style=\"text-align: right;\">\n",
        "      <th></th>\n",
        "      <th>description</th>\n",
        "      <th>duration</th>\n",
        "      <th>id</th>\n",
        "      <th>platforms</th>\n",
        "      <th>project</th>\n",
        "      <th>result</th>\n",
        "      <th>start</th>\n",
        "      <th>type</th>\n",
        "      <th>user</th>\n",
        "    </tr>\n",
        "  </thead>\n",
        "  <tbody>\n",
        "    <tr>\n",
        "      <th>2013-07-16 16:55:45</th>\n",
        "      <td> Builds Cyclopt\u2026</td>\n",
        "      <td>  6951</td>\n",
        "      <td> 149360</td>\n",
        "      <td> x86_64_Ubuntu12</td>\n",
        "      <td>   Cyclus</td>\n",
        "      <td>           Succeeded</td>\n",
        "      <td>2013-07-16 16:55:45</td>\n",
        "      <td> TEST</td>\n",
        "      <td> cyclusci</td>\n",
        "    </tr>\n",
        "    <tr>\n",
        "      <th>2013-07-17 10:00:01</th>\n",
        "      <td> Builds Cyclopt\u2026</td>\n",
        "      <td> 10971</td>\n",
        "      <td> 149868</td>\n",
        "      <td> x86_64_Ubuntu12</td>\n",
        "      <td>   Cyclus</td>\n",
        "      <td>           Succeeded</td>\n",
        "      <td>2013-07-17 10:00:01</td>\n",
        "      <td> TEST</td>\n",
        "      <td> cyclusci</td>\n",
        "    </tr>\n",
        "    <tr>\n",
        "      <th>2013-07-17 15:45:24</th>\n",
        "      <td> Builds Cyclopt\u2026</td>\n",
        "      <td>  4202</td>\n",
        "      <td> 150107</td>\n",
        "      <td> x86_64_Ubuntu12</td>\n",
        "      <td>   Cyclus</td>\n",
        "      <td> Failed one platform</td>\n",
        "      <td>2013-07-17 15:45:24</td>\n",
        "      <td> TEST</td>\n",
        "      <td> cyclusci</td>\n",
        "    </tr>\n",
        "    <tr>\n",
        "      <th>2013-07-17 21:30:02</th>\n",
        "      <td> Builds Cyclopt\u2026</td>\n",
        "      <td>  2455</td>\n",
        "      <td> 150178</td>\n",
        "      <td> x86_64_Ubuntu12</td>\n",
        "      <td>   Cyclus</td>\n",
        "      <td> Failed one platform</td>\n",
        "      <td>2013-07-17 21:30:02</td>\n",
        "      <td> TEST</td>\n",
        "      <td> cyclusci</td>\n",
        "    </tr>\n",
        "    <tr>\n",
        "      <th>2013-07-18 01:37:03</th>\n",
        "      <td> Builds Cyclopt\u2026</td>\n",
        "      <td>  9739</td>\n",
        "      <td> 150348</td>\n",
        "      <td> x86_64_Ubuntu12</td>\n",
        "      <td>   Cyclus</td>\n",
        "      <td>           Succeeded</td>\n",
        "      <td>2013-07-18 01:37:03</td>\n",
        "      <td> TEST</td>\n",
        "      <td> cyclusci</td>\n",
        "    </tr>\n",
        "    <tr>\n",
        "      <th>2013-07-18 05:00:01</th>\n",
        "      <td> Builds Cyclopt\u2026</td>\n",
        "      <td> 10585</td>\n",
        "      <td> 150466</td>\n",
        "      <td> x86_64_Ubuntu12</td>\n",
        "      <td>   Cyclus</td>\n",
        "      <td>           Succeeded</td>\n",
        "      <td>2013-07-18 05:00:01</td>\n",
        "      <td> TEST</td>\n",
        "      <td> cyclusci</td>\n",
        "    </tr>\n",
        "    <tr>\n",
        "      <th>2013-07-18 10:00:01</th>\n",
        "      <td> Builds Cyclopt\u2026</td>\n",
        "      <td>  6904</td>\n",
        "      <td> 150471</td>\n",
        "      <td> x86_64_Ubuntu12</td>\n",
        "      <td>   Cyclus</td>\n",
        "      <td>           Succeeded</td>\n",
        "      <td>2013-07-18 10:00:01</td>\n",
        "      <td> TEST</td>\n",
        "      <td> cyclusci</td>\n",
        "    </tr>\n",
        "    <tr>\n",
        "      <th>2013-07-18 13:12:49</th>\n",
        "      <td> Builds Cyclopt\u2026</td>\n",
        "      <td>   289</td>\n",
        "      <td> 150535</td>\n",
        "      <td>  x86_64_MacOSX8</td>\n",
        "      <td>   Cyclus</td>\n",
        "      <td> Failed one platform</td>\n",
        "      <td>2013-07-18 13:12:49</td>\n",
        "      <td> TEST</td>\n",
        "      <td> cyclusci</td>\n",
        "    </tr>\n",
        "    <tr>\n",
        "      <th>2013-07-18 13:27:07</th>\n",
        "      <td> Builds Cyclopt\u2026</td>\n",
        "      <td>  7701</td>\n",
        "      <td> 150542</td>\n",
        "      <td> x86_64_Ubuntu12</td>\n",
        "      <td>   Cyclus</td>\n",
        "      <td>           Succeeded</td>\n",
        "      <td>2013-07-18 13:27:07</td>\n",
        "      <td> TEST</td>\n",
        "      <td> cyclusci</td>\n",
        "    </tr>\n",
        "    <tr>\n",
        "      <th>2013-07-18 13:27:32</th>\n",
        "      <td>            None</td>\n",
        "      <td>   605</td>\n",
        "      <td> 150543</td>\n",
        "      <td>     (0/0/0/0/0)</td>\n",
        "      <td> Cycamore</td>\n",
        "      <td>             Removed</td>\n",
        "      <td>2013-07-18 13:27:32</td>\n",
        "      <td> TEST</td>\n",
        "      <td> cyclusci</td>\n",
        "    </tr>\n",
        "    <tr>\n",
        "      <th>2013-07-18 13:37:42</th>\n",
        "      <td>            None</td>\n",
        "      <td>   626</td>\n",
        "      <td> 150549</td>\n",
        "      <td>  x86_64_MacOSX8</td>\n",
        "      <td> Cycamore</td>\n",
        "      <td> Failed one platform</td>\n",
        "      <td>2013-07-18 13:37:42</td>\n",
        "      <td> TEST</td>\n",
        "      <td> cyclusci</td>\n",
        "    </tr>\n",
        "    <tr>\n",
        "      <th>2013-07-18 13:55:51</th>\n",
        "      <td> Builds Cyclopt\u2026</td>\n",
        "      <td>  7524</td>\n",
        "      <td> 150568</td>\n",
        "      <td> x86_64_Ubuntu12</td>\n",
        "      <td>   Cyclus</td>\n",
        "      <td>           Succeeded</td>\n",
        "      <td>2013-07-18 13:55:51</td>\n",
        "      <td> TEST</td>\n",
        "      <td> cyclusci</td>\n",
        "    </tr>\n",
        "    <tr>\n",
        "      <th>2013-07-18 14:01:46</th>\n",
        "      <td>            None</td>\n",
        "      <td>   702</td>\n",
        "      <td> 150576</td>\n",
        "      <td>  x86_64_MacOSX8</td>\n",
        "      <td> Cycamore</td>\n",
        "      <td> Failed one platform</td>\n",
        "      <td>2013-07-18 14:01:46</td>\n",
        "      <td> TEST</td>\n",
        "      <td> cyclusci</td>\n",
        "    </tr>\n",
        "    <tr>\n",
        "      <th>2013-07-18 14:22:21</th>\n",
        "      <td>            None</td>\n",
        "      <td>  1433</td>\n",
        "      <td> 150591</td>\n",
        "      <td>  x86_64_MacOSX8</td>\n",
        "      <td> Cycamore</td>\n",
        "      <td> Failed one platform</td>\n",
        "      <td>2013-07-18 14:22:21</td>\n",
        "      <td> TEST</td>\n",
        "      <td> cyclusci</td>\n",
        "    </tr>\n",
        "    <tr>\n",
        "      <th>2013-07-18 14:59:40</th>\n",
        "      <td>            None</td>\n",
        "      <td>   652</td>\n",
        "      <td> 150611</td>\n",
        "      <td>  x86_64_MacOSX8</td>\n",
        "      <td> Cycamore</td>\n",
        "      <td> Failed one platform</td>\n",
        "      <td>2013-07-18 14:59:40</td>\n",
        "      <td> TEST</td>\n",
        "      <td> cyclusci</td>\n",
        "    </tr>\n",
        "    <tr>\n",
        "      <th></th>\n",
        "      <td>...</td>\n",
        "      <td>...</td>\n",
        "      <td>...</td>\n",
        "      <td>...</td>\n",
        "      <td>...</td>\n",
        "      <td>...</td>\n",
        "      <td>...</td>\n",
        "      <td>...</td>\n",
        "      <td>...</td>\n",
        "    </tr>\n",
        "  </tbody>\n",
        "</table>\n",
        "<p>2489 rows \u00d7 9 columns</p>\n",
        "</div>"
       ],
       "metadata": {},
       "output_type": "pyout",
       "prompt_number": 2,
       "text": [
        "                         description  duration      id        platforms  \\\n",
        "2013-07-16 16:55:45  Builds Cyclopt\u2026      6951  149360  x86_64_Ubuntu12   \n",
        "2013-07-17 10:00:01  Builds Cyclopt\u2026     10971  149868  x86_64_Ubuntu12   \n",
        "2013-07-17 15:45:24  Builds Cyclopt\u2026      4202  150107  x86_64_Ubuntu12   \n",
        "2013-07-17 21:30:02  Builds Cyclopt\u2026      2455  150178  x86_64_Ubuntu12   \n",
        "2013-07-18 01:37:03  Builds Cyclopt\u2026      9739  150348  x86_64_Ubuntu12   \n",
        "2013-07-18 05:00:01  Builds Cyclopt\u2026     10585  150466  x86_64_Ubuntu12   \n",
        "2013-07-18 10:00:01  Builds Cyclopt\u2026      6904  150471  x86_64_Ubuntu12   \n",
        "2013-07-18 13:12:49  Builds Cyclopt\u2026       289  150535   x86_64_MacOSX8   \n",
        "2013-07-18 13:27:07  Builds Cyclopt\u2026      7701  150542  x86_64_Ubuntu12   \n",
        "2013-07-18 13:27:32             None       605  150543      (0/0/0/0/0)   \n",
        "2013-07-18 13:37:42             None       626  150549   x86_64_MacOSX8   \n",
        "2013-07-18 13:55:51  Builds Cyclopt\u2026      7524  150568  x86_64_Ubuntu12   \n",
        "2013-07-18 14:01:46             None       702  150576   x86_64_MacOSX8   \n",
        "2013-07-18 14:22:21             None      1433  150591   x86_64_MacOSX8   \n",
        "2013-07-18 14:59:40             None       652  150611   x86_64_MacOSX8   \n",
        "                                 ...       ...     ...              ...   \n",
        "\n",
        "                      project               result               start  type  \\\n",
        "2013-07-16 16:55:45    Cyclus            Succeeded 2013-07-16 16:55:45  TEST   \n",
        "2013-07-17 10:00:01    Cyclus            Succeeded 2013-07-17 10:00:01  TEST   \n",
        "2013-07-17 15:45:24    Cyclus  Failed one platform 2013-07-17 15:45:24  TEST   \n",
        "2013-07-17 21:30:02    Cyclus  Failed one platform 2013-07-17 21:30:02  TEST   \n",
        "2013-07-18 01:37:03    Cyclus            Succeeded 2013-07-18 01:37:03  TEST   \n",
        "2013-07-18 05:00:01    Cyclus            Succeeded 2013-07-18 05:00:01  TEST   \n",
        "2013-07-18 10:00:01    Cyclus            Succeeded 2013-07-18 10:00:01  TEST   \n",
        "2013-07-18 13:12:49    Cyclus  Failed one platform 2013-07-18 13:12:49  TEST   \n",
        "2013-07-18 13:27:07    Cyclus            Succeeded 2013-07-18 13:27:07  TEST   \n",
        "2013-07-18 13:27:32  Cycamore              Removed 2013-07-18 13:27:32  TEST   \n",
        "2013-07-18 13:37:42  Cycamore  Failed one platform 2013-07-18 13:37:42  TEST   \n",
        "2013-07-18 13:55:51    Cyclus            Succeeded 2013-07-18 13:55:51  TEST   \n",
        "2013-07-18 14:01:46  Cycamore  Failed one platform 2013-07-18 14:01:46  TEST   \n",
        "2013-07-18 14:22:21  Cycamore  Failed one platform 2013-07-18 14:22:21  TEST   \n",
        "2013-07-18 14:59:40  Cycamore  Failed one platform 2013-07-18 14:59:40  TEST   \n",
        "                          ...                  ...                 ...   ...   \n",
        "\n",
        "                         user  \n",
        "2013-07-16 16:55:45  cyclusci  \n",
        "2013-07-17 10:00:01  cyclusci  \n",
        "2013-07-17 15:45:24  cyclusci  \n",
        "2013-07-17 21:30:02  cyclusci  \n",
        "2013-07-18 01:37:03  cyclusci  \n",
        "2013-07-18 05:00:01  cyclusci  \n",
        "2013-07-18 10:00:01  cyclusci  \n",
        "2013-07-18 13:12:49  cyclusci  \n",
        "2013-07-18 13:27:07  cyclusci  \n",
        "2013-07-18 13:27:32  cyclusci  \n",
        "2013-07-18 13:37:42  cyclusci  \n",
        "2013-07-18 13:55:51  cyclusci  \n",
        "2013-07-18 14:01:46  cyclusci  \n",
        "2013-07-18 14:22:21  cyclusci  \n",
        "2013-07-18 14:59:40  cyclusci  \n",
        "                          ...  \n",
        "\n",
        "[2489 rows x 9 columns]"
       ]
      }
     ],
     "prompt_number": 2
    },
    {
     "cell_type": "markdown",
     "metadata": {},
     "source": [
      "# Total wall-clock time of all jobs"
     ]
    },
    {
     "cell_type": "code",
     "collapsed": false,
     "input": [
      "# durration is in seconds\n",
      "dur = df['duration'].sum()\n",
      "print(\"{0:.2f} hrs\".format(dur/3600.0))"
     ],
     "language": "python",
     "metadata": {},
     "outputs": [
      {
       "output_type": "stream",
       "stream": "stdout",
       "text": [
        "5287.35 hrs\n"
       ]
      }
     ],
     "prompt_number": 3
    },
    {
     "cell_type": "markdown",
     "metadata": {},
     "source": [
      "# Job counts by success or failure"
     ]
    },
    {
     "cell_type": "code",
     "collapsed": false,
     "input": [
      "df.result.value_counts()"
     ],
     "language": "python",
     "metadata": {},
     "outputs": [
      {
       "metadata": {},
       "output_type": "pyout",
       "prompt_number": 4,
       "text": [
        "Succeeded              1389\n",
        "Failed one platform     457\n",
        "Failed 2 platforms      432\n",
        "Removed                 210\n",
        "Failed 3 platforms        1\n",
        "dtype: int64"
       ]
      }
     ],
     "prompt_number": 4
    },
    {
     "cell_type": "code",
     "collapsed": false,
     "input": [
      "ax = (df.duration/3600.0).plot(figsize=(15, 6))\n",
      "ax.set_ylabel(\"Duration [hrs]\")"
     ],
     "language": "python",
     "metadata": {},
     "outputs": [
      {
       "metadata": {},
       "output_type": "pyout",
       "prompt_number": 5,
       "text": [
        "<matplotlib.text.Text at 0x7fc78bb61668>"
       ]
      },
      {
       "metadata": {},
       "output_type": "display_data",
       "png": "[encoded data removed]",
       "text": [
        "<matplotlib.figure.Figure at 0x7fc78bb9c940>"
       ]
      }
     ],
     "prompt_number": 5
    },
    {
     "cell_type": "code",
     "collapsed": false,
     "input": [
      "monthly = df.groupby([df.index.year, df.index.month]).transform(np.sum)"
     ],
     "language": "python",
     "metadata": {},
     "outputs": [],
     "prompt_number": 6
    },
    {
     "cell_type": "code",
     "collapsed": false,
     "input": [
      "ax = (monthly.duration/3600.0).plot(figsize=(15, 6))\n",
      "ax.set_ylabel(\"Duration [hrs]\")"
     ],
     "language": "python",
     "metadata": {},
     "outputs": [
      {
       "metadata": {},
       "output_type": "pyout",
       "prompt_number": 7,
       "text": [
        "<matplotlib.text.Text at 0x7fc78d594710>"
       ]
      },
      {
       "metadata": {},
       "output_type": "display_data",
       "png": "[encoded data removed]",
       "text": [
        "<matplotlib.figure.Figure at 0x7fc78ba80438>"
       ]
      }
     ],
     "prompt_number": 7
    }
   ],
   "metadata": {}
  }
 ]
}